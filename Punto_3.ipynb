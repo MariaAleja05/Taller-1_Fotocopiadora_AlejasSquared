{
  "nbformat": 4,
  "nbformat_minor": 0,
  "metadata": {
    "colab": {
      "provenance": []
    },
    "kernelspec": {
      "name": "python3",
      "display_name": "Python 3"
    },
    "language_info": {
      "name": "python"
    }
  },
  "cells": [
    {
      "cell_type": "code",
      "execution_count": 2,
      "metadata": {
        "colab": {
          "base_uri": "https://localhost:8080/"
        },
        "id": "hH1HyfywkyFq",
        "outputId": "a19fec9c-933c-4525-9c8f-4c5a86ff80a0"
      },
      "outputs": [
        {
          "output_type": "stream",
          "name": "stdout",
          "text": [
            "-------------------------------------------------------\n",
            "Determinar si el número entero es par o impar\n",
            "-------------------------------------------------------\n",
            "Ingrese un número: \n",
            "n: 5677\n",
            "El número ingresado es impar\n"
          ]
        }
      ],
      "source": [
        "print(\"-------------------------------------------------------\")\n",
        "print(\"Determinar si el número entero es par o impar\")\n",
        "print(\"-------------------------------------------------------\")\n",
        "#Entradas\n",
        "n: int = 0\n",
        "print(\"Ingrese un número: \")\n",
        "n=int( input(\"n: \"))\n",
        "#Proceso\n",
        "if n%2==0:\n",
        "  print(\"El número ingresado es par\")\n",
        "else:\n",
        "  print(\"El número ingresado es impar\")"
      ]
    }
  ]
}
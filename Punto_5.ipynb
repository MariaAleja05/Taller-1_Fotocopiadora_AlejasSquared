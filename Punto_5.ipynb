{
  "nbformat": 4,
  "nbformat_minor": 0,
  "metadata": {
    "colab": {
      "provenance": []
    },
    "kernelspec": {
      "name": "python3",
      "display_name": "Python 3"
    },
    "language_info": {
      "name": "python"
    }
  },
  "cells": [
    {
      "cell_type": "code",
      "execution_count": 3,
      "metadata": {
        "colab": {
          "base_uri": "https://localhost:8080/"
        },
        "id": "hH1HyfywkyFq",
        "outputId": "554707a1-15cb-4210-9cd9-69831a068703"
      },
      "outputs": [
        {
          "output_type": "stream",
          "name": "stdout",
          "text": [
            "-------------------------------------------------------\n",
            "Determinar si la suma de los dos primeros números es mayor, menor o igual que un tercer número\n",
            "-------------------------------------------------------\n",
            "Ingrese el primer número: \n",
            "primer_numero: 96\n",
            "Ingrese el segundo número: \n",
            "segundo_numero: 58\n",
            "Ingrese el segundo número: \n",
            "tercer_numero: 1022\n",
            "El tercer número es mayor que la suma de los dos primeros números \n"
          ]
        }
      ],
      "source": [
        "print(\"-------------------------------------------------------\")\n",
        "print(\"Determinar si la suma de los dos primeros números es mayor, menor o igual que un tercer número\")\n",
        "print(\"-------------------------------------------------------\")\n",
        "#Entradas\n",
        "primer_numero: int = 0\n",
        "segundo_numero: int = 0\n",
        "tercer_numero: int = 0\n",
        "suma: int = 0\n",
        "print(\"Ingrese el primer número: \")\n",
        "primer_numero=int( input(\"primer_numero: \"))\n",
        "print(\"Ingrese el segundo número: \")\n",
        "segundo_numero=int( input(\"segundo_numero: \"))\n",
        "print(\"Ingrese el segundo número: \")\n",
        "tercer_numero=int( input(\"tercer_numero: \"))\n",
        "#Proceso\n",
        "suma=primer_numero+segundo_numero\n",
        "if tercer_numero>suma:\n",
        "  print(\"El tercer número es mayor que la suma de los dos primeros números \")\n",
        "elif tercer_numero<suma:\n",
        "  print(\"El tercer número es menor que la suma de los dos primeros números \")\n",
        "else:\n",
        "  print(\"El tercer número es igual que la suma de los dos primeros números\")"
      ]
    }
  ]
}
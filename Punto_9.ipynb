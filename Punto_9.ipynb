{
  "nbformat": 4,
  "nbformat_minor": 0,
  "metadata": {
    "colab": {
      "provenance": []
    },
    "kernelspec": {
      "name": "python3",
      "display_name": "Python 3"
    },
    "language_info": {
      "name": "python"
    }
  },
  "cells": [
    {
      "cell_type": "code",
      "execution_count": 1,
      "metadata": {
        "colab": {
          "base_uri": "https://localhost:8080/"
        },
        "id": "hH1HyfywkyFq",
        "outputId": "da695ac4-2afe-4e67-a3cd-084bf115d42e"
      },
      "outputs": [
        {
          "output_type": "stream",
          "name": "stdout",
          "text": [
            "-------------------------------------------------------\n",
            "Determinar la capital del pais de América ingresado\n",
            "-------------------------------------------------------\n",
            "Ingrese un país de América: \n",
            "pais: CUBA\n",
            "cuba\n",
            "La capital es La Habana\n"
          ]
        }
      ],
      "source": [
        "print(\"-------------------------------------------------------\")\n",
        "print(\"Determinar la capital del pais de América ingresado\")\n",
        "print(\"-------------------------------------------------------\")\n",
        "#Entradas\n",
        "pais: str\n",
        "print(\"Ingrese un país de América: \")\n",
        "pais=str( input(\"pais: \"))\n",
        "pais=pais.lower()\n",
        "print(pais)\n",
        "#Proceso\n",
        "if pais==\"canada\" or pais==\"canadá\":\n",
        "  print(\"La capital es Otawwa\")\n",
        "elif pais==\"estados unidos\":\n",
        "  print(\"La capital es Washington DC\")\n",
        "elif pais==\"mexico\" or pais==\"méxico\":\n",
        "  print(\"La capital es México DF\")\n",
        "elif pais==\"belice\":\n",
        "  print(\"La capital es Belmopán\")\n",
        "elif pais==\"costa rica\":\n",
        "  print(\"La capital es San José\")\n",
        "elif pais==\"el salvador\":\n",
        "  print(\"La capital es San Salvador\")\n",
        "elif pais==\"Guatemala\":\n",
        "  print(\"La capital es Ciudad de Guatemala\")\n",
        "elif pais==\"Honduras\":\n",
        "  print(\"La capital es Tegucigalpa\")\n",
        "elif pais==\"nicaragua\":\n",
        "  print(\"La capital es Mnagua\")\n",
        "elif pais==\"panama\" or pais==\"panamá\":\n",
        "  print(\"La capital es Panamá\")\n",
        "elif pais==\"argentina\":\n",
        "  print(\"La capital es Buenos Aires\")\n",
        "elif pais==\"bolivia\":\n",
        "  print(\"La capital es Sucre\")\n",
        "elif pais==\"brasil\":\n",
        "  print(\"La capital es Brasilia\")\n",
        "elif pais==\"chile\":\n",
        "  print(\"La capital es Santiago de Chile\")\n",
        "elif pais==\"colombia\":\n",
        "  print(\"La capital es Bogotá\")\n",
        "elif pais==\"ecuador\":\n",
        "  print(\"La capital es Quito\")\n",
        "elif pais==\"paraguay\":\n",
        "  print(\"La capital es Asunción\")\n",
        "elif pais==\"peru\" or pais==\"perú\":\n",
        "  print(\"La capital es Lima\")\n",
        "elif pais==\"surinam\":\n",
        "  print(\"La capital es Parabarimo\")\n",
        "elif pais==\"trinidad y tobago\":\n",
        "  print(\"La capital es Puerto España\")\n",
        "elif pais==\"uruguay\":\n",
        "  print(\"La capital es Montevideo\")\n",
        "elif pais==\"venezuela\":\n",
        "  print(\"La capital es Caracas\")\n",
        "elif pais==\"antigua y barbuda\":\n",
        "  print(\"La capital es Saint John\")\n",
        "elif pais==\"bahamas\":\n",
        "  print(\"La capital es Nasáu\")\n",
        "elif pais==\"barbados\":\n",
        "  print(\"La capital es Bridgetown\")\n",
        "elif pais==\"cuba\":\n",
        "  print(\"La capital es La Habana\")\n",
        "elif pais==\"dominica\":\n",
        "  print(\"La capital es Roseau\")\n",
        "elif pais==\"granada\":\n",
        "  print(\"La capital es Saint George\")\n",
        "elif pais==\"guyana\":\n",
        "  print(\"La capital es Georgetown\")\n",
        "elif pais==\"haiti\" or pais==\"haití\":\n",
        "  print(\"La capital es Puerto Príncipe\")\n",
        "elif pais==\"jamaica\":\n",
        "  print(\"La capital es Kingston\")\n",
        "elif pais==\"republica conminicana\":\n",
        "  print(\"La capital es Santo Domingo\")\n",
        "elif pais==\"san cristobal y nieves\" or pais==\"san cristóbal y nieves\":\n",
        "  print(\"La capital es Basseterre\")\n",
        "elif pais==\"san vicente y las granadinas\":\n",
        "  print(\"La capital es Kingstown\")\n",
        "elif pais==\"santa lucia\" or pais==\"santa lucía\":\n",
        "  print(\"La capital es Castries\")\n",
        "else:\n",
        "  print(\"país no identificado\")"
      ]
    }
  ]
}